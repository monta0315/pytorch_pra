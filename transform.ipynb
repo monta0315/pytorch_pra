{
  "nbformat": 4,
  "nbformat_minor": 0,
  "metadata": {
    "colab": {
      "name": "transform.ipynb",
      "provenance": [],
      "authorship_tag": "ABX9TyPS1YVWyuH1rVFPvtgAIpug",
      "include_colab_link": true
    },
    "kernelspec": {
      "name": "python3",
      "display_name": "Python 3"
    },
    "language_info": {
      "name": "python"
    }
  },
  "cells": [
    {
      "cell_type": "markdown",
      "metadata": {
        "id": "view-in-github",
        "colab_type": "text"
      },
      "source": [
        "<a href=\"https://colab.research.google.com/github/monta0315/pytorch_pra/blob/main/transform.ipynb\" target=\"_parent\"><img src=\"https://colab.research.google.com/assets/colab-badge.svg\" alt=\"Open In Colab\"/></a>"
      ]
    },
    {
      "cell_type": "markdown",
      "metadata": {
        "id": "XHt6Ljkjafbl"
      },
      "source": [
        "#Transform\n",
        "データになんらかの処理を行い学習に適した形に変換する\n",
        "\n",
        "TorchVisionのデータセットには特徴量(データ)を変換処理するためのtransformとラベルを変換処理するためのtarget_transformの二つのパラメータがある\n",
        "\n",
        "さらに変換ロジックを記載したcallableを受け取る？？\n",
        "\n",
        "Torchvision.transformモジュールは一見の価値あり\n",
        "\n",
        "FasionMnistデータセットの特徴量はPIL形式の画像でありラベルはint型\n",
        "訓練では正規化された特徴量テンソルとワンホットエンコーディングされたテンソルラベルが必要となる\n",
        "\n",
        "これらのデータを作るためにToTensorとLambdaを使用する"
      ]
    },
    {
      "cell_type": "code",
      "metadata": {
        "id": "7e8mTrQvaeRg"
      },
      "source": [
        "%matplotlib inline"
      ],
      "execution_count": 1,
      "outputs": []
    },
    {
      "cell_type": "code",
      "metadata": {
        "id": "4j4CBPVmcI50"
      },
      "source": [
        "from torchvision import datasets\n",
        "from torchvision.transforms import ToTensor,Lambda\n",
        "import torch\n",
        "\n",
        "ds = datasets.FashionMNIST(\n",
        "    root=\"data\",\n",
        "    train = True,\n",
        "    download = True,\n",
        "    transform = ToTensor(),\n",
        "    target_transform=Lambda(lambda y:torch.zeros(10,dtype=torch.float).scatter_(0,torch.tensor(y),value=1))\n",
        ")"
      ],
      "execution_count": 3,
      "outputs": []
    },
    {
      "cell_type": "markdown",
      "metadata": {
        "id": "pbiUb8txdLze"
      },
      "source": [
        "#ToTensor()\n",
        "ToTensorはPIL形式の画像、もしくはNumpyのndarrayをFloatTensorに変換します\n",
        "\n",
        "加えて、画像の場合はピクセル毎の値を[0,1]の値に変換する=>正規化？？\n",
        "\n",
        "#Lambda Transforms\n",
        "\n",
        "Lambda transformsはユーザーが定義した関数を実行するPythonの関数\n",
        "最初に大きさ10のゼロテンソルを作成し(10はクラス数に対応),scatterを用いてラベルyの値のインデックスのみ1のワンホットエンコーディングに変換している"
      ]
    },
    {
      "cell_type": "code",
      "metadata": {
        "id": "7x30I8G6dH-a"
      },
      "source": [
        "target_transform = Lambda(lambda y:torch.zeros(10,dtype=torch.float).scatter_(0,torch.tensor(y),value=1) )"
      ],
      "execution_count": 4,
      "outputs": []
    },
    {
      "cell_type": "code",
      "metadata": {
        "id": "z7GAT_vVe5Xw"
      },
      "source": [
        ""
      ],
      "execution_count": null,
      "outputs": []
    }
  ]
}