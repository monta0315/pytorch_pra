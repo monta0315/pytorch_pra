{
  "nbformat": 4,
  "nbformat_minor": 0,
  "metadata": {
    "colab": {
      "name": "Tensors.ipynb",
      "provenance": [],
      "authorship_tag": "ABX9TyPEBqP4uXHRygOrKIMu8zHN",
      "include_colab_link": true
    },
    "kernelspec": {
      "name": "python3",
      "display_name": "Python 3"
    },
    "language_info": {
      "name": "python"
    },
    "accelerator": "GPU"
  },
  "cells": [
    {
      "cell_type": "markdown",
      "metadata": {
        "id": "view-in-github",
        "colab_type": "text"
      },
      "source": [
        "<a href=\"https://colab.research.google.com/github/monta0315/pytorch_pra/blob/main/Tensors.ipynb\" target=\"_parent\"><img src=\"https://colab.research.google.com/assets/colab-badge.svg\" alt=\"Open In Colab\"/></a>"
      ]
    },
    {
      "cell_type": "markdown",
      "metadata": {
        "id": "9IyGCSy6pQpf"
      },
      "source": [
        "# テンソル:Tensors\n",
        "=======================\n",
        "\n",
        "テンソルは特殊なデータ構造で、配列や行列によく似ている\n",
        "\n",
        "PyTorchではテンソル型の変数を使用して、モデルの入出力、パラメータを表現する"
      ]
    },
    {
      "cell_type": "markdown",
      "metadata": {
        "id": "fEBRl1Pgpwei"
      },
      "source": [
        "テンソルはNumpyのndarraysに似ているが、違いとしてGPUや他のハードウェアアクセラレータ状でどうさせることができる\n",
        "\n",
        "テンソルとNumpyの配列は基本的には同じメモリを共有することができるため、2つの型間での変換時にはデータをコピーする必要がない！！\n",
        "\n",
        "テンソルはその他に、自動微分に最適化されている\n"
      ]
    },
    {
      "cell_type": "code",
      "metadata": {
        "id": "dwtCPzoepLZi"
      },
      "source": [
        "%matplotlib inline"
      ],
      "execution_count": null,
      "outputs": []
    },
    {
      "cell_type": "code",
      "metadata": {
        "id": "u1jiqAbWqSPW"
      },
      "source": [
        "import torch\n",
        "import numpy as np"
      ],
      "execution_count": null,
      "outputs": []
    },
    {
      "cell_type": "markdown",
      "metadata": {
        "id": "ETT-7ffmqfNH"
      },
      "source": [
        "#テンソルの初期化\n",
        "\n",
        "テンソルは様々な手法で初期化できる\n",
        "\n",
        "**データから直接テンソルに変換**\n"
      ]
    },
    {
      "cell_type": "code",
      "metadata": {
        "colab": {
          "base_uri": "https://localhost:8080/"
        },
        "id": "8p388LbFqYTn",
        "outputId": "faf781df-8c09-470b-c89c-4b1e155efb92"
      },
      "source": [
        "data = [[1,2],[3,4]]\n",
        "x_data = torch.tensor(data)\n",
        "print(x_data)\n",
        "print(data)"
      ],
      "execution_count": null,
      "outputs": [
        {
          "output_type": "stream",
          "text": [
            "tensor([[1, 2],\n",
            "        [3, 4]])\n",
            "[[1, 2], [3, 4]]\n"
          ],
          "name": "stdout"
        }
      ]
    },
    {
      "cell_type": "markdown",
      "metadata": {
        "id": "qGzZjvOhuTsL"
      },
      "source": [
        "#NumpyとTensorは相互に変換可能"
      ]
    },
    {
      "cell_type": "code",
      "metadata": {
        "colab": {
          "base_uri": "https://localhost:8080/"
        },
        "id": "DgbTtbExqytG",
        "outputId": "7b148fd4-a501-47cd-9372-e96d8859fe93"
      },
      "source": [
        "np_array = np.array(data)\n",
        "print(np_array)\n",
        "x_np = torch.from_numpy(np_array)\n",
        "print(x_np)"
      ],
      "execution_count": null,
      "outputs": [
        {
          "output_type": "stream",
          "text": [
            "[[1 2]\n",
            " [3 4]]\n",
            "tensor([[1, 2],\n",
            "        [3, 4]])\n"
          ],
          "name": "stdout"
        }
      ]
    },
    {
      "cell_type": "markdown",
      "metadata": {
        "id": "6685WY_6uw7d"
      },
      "source": [
        "#他のテンソルから作成\n",
        "明示的に上書きされない限り、引数のテンソルのプロパティを保持する"
      ]
    },
    {
      "cell_type": "code",
      "metadata": {
        "colab": {
          "base_uri": "https://localhost:8080/"
        },
        "id": "AO6C2ITkulrO",
        "outputId": "778dfea9-a4da-41e0-e839-0963efa3ead0"
      },
      "source": [
        "x_ones = torch.ones_like(x_data)\n",
        "print(x_ones) #2x2は引き継がれている\n",
        "x_rand = torch.rand_like(x_data,dtype=torch.float) #x_dataのdatatypeを上書き\n",
        "print(x_rand)"
      ],
      "execution_count": null,
      "outputs": [
        {
          "output_type": "stream",
          "text": [
            "tensor([[1, 1],\n",
            "        [1, 1]])\n",
            "tensor([[0.3701, 0.6303],\n",
            "        [0.7334, 0.8679]])\n"
          ],
          "name": "stdout"
        }
      ]
    },
    {
      "cell_type": "markdown",
      "metadata": {
        "id": "ZMxuTVe6vtV1"
      },
      "source": [
        "#ランダム値や定数のテンソルの作成\n",
        "shapeはテンソルの次元を表すタプル\n",
        "以下の例ではshapeからのテンソルのサイズを決めている"
      ]
    },
    {
      "cell_type": "code",
      "metadata": {
        "colab": {
          "base_uri": "https://localhost:8080/"
        },
        "id": "Xi4QphaFvfQh",
        "outputId": "f57a16fc-e905-4aa0-a295-65fea2757c16"
      },
      "source": [
        "shape=(2,3,)\n",
        "rand_tensor = torch.rand(shape)\n",
        "ones_tensor = torch.ones(shape)\n",
        "zeros_tensor = torch.zeros(shape)\n",
        "\n",
        "print(rand_tensor)\n",
        "print(ones_tensor)\n",
        "print(zeros_tensor)"
      ],
      "execution_count": null,
      "outputs": [
        {
          "output_type": "stream",
          "text": [
            "tensor([[0.4020, 0.1826, 0.0856],\n",
            "        [0.8871, 0.0369, 0.6982]])\n",
            "tensor([[1., 1., 1.],\n",
            "        [1., 1., 1.]])\n",
            "tensor([[0., 0., 0.],\n",
            "        [0., 0., 0.]])\n"
          ],
          "name": "stdout"
        }
      ]
    },
    {
      "cell_type": "markdown",
      "metadata": {
        "id": "wpgmc46FwSeR"
      },
      "source": [
        "#テンソルの属性変数\n",
        "テンソルは属性変数として、その形状、データの型、保存されているデバイスを保持している"
      ]
    },
    {
      "cell_type": "code",
      "metadata": {
        "colab": {
          "base_uri": "https://localhost:8080/"
        },
        "id": "uw0YCDLhwNeh",
        "outputId": "bdf393c8-8545-4bc4-8efc-df00fc071c8d"
      },
      "source": [
        "tensor = torch.rand(3,4)\n",
        "\n",
        "print(tensor.shape)\n",
        "print(tensor.dtype)\n",
        "print(tensor.device)"
      ],
      "execution_count": null,
      "outputs": [
        {
          "output_type": "stream",
          "text": [
            "torch.Size([3, 4])\n",
            "torch.float32\n",
            "cpu\n"
          ],
          "name": "stdout"
        }
      ]
    },
    {
      "cell_type": "markdown",
      "metadata": {
        "id": "ZMyYiy2Rw-yQ"
      },
      "source": [
        "#テンソルの操作\n",
        "デフォルトではテンソルはCPU上に作成される\n",
        "そのため、明示的に.toメソッドを使用してテンソルをGPU上に移動させる"
      ]
    },
    {
      "cell_type": "code",
      "metadata": {
        "id": "IDi34dGgwnSE"
      },
      "source": [
        "#GPUが使用可能であったらGPU上にテンソルを移動させる\n",
        "if torch.cuda.is_available():\n",
        "    tensor = tensor.to(\"cuda\")"
      ],
      "execution_count": 15,
      "outputs": []
    },
    {
      "cell_type": "code",
      "metadata": {
        "colab": {
          "base_uri": "https://localhost:8080/"
        },
        "id": "_a7HeTVox4dN",
        "outputId": "a9aef295-d6b3-4aaa-cced-737faea65d00"
      },
      "source": [
        "tensor = torch.ones(4,4)\n",
        "print(tensor)\n",
        "print(tensor[0]) #first low\n",
        "print(tensor[:,0]) #first column\n",
        "print(tensor[...,-1]) # last column\n",
        "tensor[:,1]=0 #change second column \n",
        "print(tensor)"
      ],
      "execution_count": 17,
      "outputs": [
        {
          "output_type": "stream",
          "text": [
            "tensor([[1., 1., 1., 1.],\n",
            "        [1., 1., 1., 1.],\n",
            "        [1., 1., 1., 1.],\n",
            "        [1., 1., 1., 1.]])\n",
            "tensor([1., 1., 1., 1.])\n",
            "tensor([1., 1., 1., 1.])\n",
            "tensor([1., 1., 1., 1.])\n",
            "tensor([[1., 0., 1., 1.],\n",
            "        [1., 0., 1., 1.],\n",
            "        [1., 0., 1., 1.],\n",
            "        [1., 0., 1., 1.]])\n"
          ],
          "name": "stdout"
        }
      ]
    },
    {
      "cell_type": "markdown",
      "metadata": {
        "id": "rQLY71-Ty5-4"
      },
      "source": [
        "#テンソルの結合\n",
        "torch.catを使用することでテンソルを特定の次元に沿って結合することができる\n",
        "\n",
        "torch.catと似たような動きをするtorch.stackもある"
      ]
    },
    {
      "cell_type": "code",
      "metadata": {
        "colab": {
          "base_uri": "https://localhost:8080/"
        },
        "id": "lSJdE5-OyamJ",
        "outputId": "601b7c6d-b7cb-4b58-8d91-fd505b265b24"
      },
      "source": [
        "t1 = torch.cat([tensor,tensor,tensor],dim=1)\n",
        "print(t1)"
      ],
      "execution_count": 23,
      "outputs": [
        {
          "output_type": "stream",
          "text": [
            "tensor([[1., 0., 1., 1., 1., 0., 1., 1., 1., 0., 1., 1.],\n",
            "        [1., 0., 1., 1., 1., 0., 1., 1., 1., 0., 1., 1.],\n",
            "        [1., 0., 1., 1., 1., 0., 1., 1., 1., 0., 1., 1.],\n",
            "        [1., 0., 1., 1., 1., 0., 1., 1., 1., 0., 1., 1.]])\n"
          ],
          "name": "stdout"
        }
      ]
    },
    {
      "cell_type": "markdown",
      "metadata": {
        "id": "oF6365_42pPy"
      },
      "source": [
        "#算術演算"
      ]
    },
    {
      "cell_type": "code",
      "metadata": {
        "colab": {
          "base_uri": "https://localhost:8080/"
        },
        "id": "oZU1CyQq2Zsp",
        "outputId": "37be3ef0-9269-430f-bcfe-1a226473a86c"
      },
      "source": [
        "#2つのテンソル行列の掛け算　y1,y2,y3は等価\n",
        "print(tensor)\n",
        "y1 = tensor @ tensor.T\n",
        "y2 = tensor.matmul(tensor.T)\n",
        "y3 = torch.rand_like(tensor)\n",
        "print(y3.T)\n",
        "torch.matmul(tensor,tensor.T,out=y3)\n",
        "print(y1)\n",
        "print(y2)\n",
        "print(y3)"
      ],
      "execution_count": 30,
      "outputs": [
        {
          "output_type": "stream",
          "text": [
            "tensor([[1., 0., 1., 1.],\n",
            "        [1., 0., 1., 1.],\n",
            "        [1., 0., 1., 1.],\n",
            "        [1., 0., 1., 1.]])\n",
            "tensor([[0.9253, 0.0624, 0.0448, 0.8034],\n",
            "        [0.9446, 0.0192, 0.7633, 0.1834],\n",
            "        [0.4339, 0.8179, 0.1067, 0.8001],\n",
            "        [0.1973, 0.0369, 0.9879, 0.1686]])\n",
            "tensor([[3., 3., 3., 3.],\n",
            "        [3., 3., 3., 3.],\n",
            "        [3., 3., 3., 3.],\n",
            "        [3., 3., 3., 3.]])\n",
            "tensor([[3., 3., 3., 3.],\n",
            "        [3., 3., 3., 3.],\n",
            "        [3., 3., 3., 3.],\n",
            "        [3., 3., 3., 3.]])\n",
            "tensor([[3., 3., 3., 3.],\n",
            "        [3., 3., 3., 3.],\n",
            "        [3., 3., 3., 3.],\n",
            "        [3., 3., 3., 3.]])\n"
          ],
          "name": "stdout"
        }
      ]
    },
    {
      "cell_type": "code",
      "metadata": {
        "colab": {
          "base_uri": "https://localhost:8080/"
        },
        "id": "XBi4TBqQ3LPC",
        "outputId": "6d05e307-829a-45b8-df23-3b362b0fc9e8"
      },
      "source": [
        "#要素ごとの積を求める\n",
        "z1 = tensor*tensor\n",
        "z2 = tensor.mul(tensor)\n",
        "\n",
        "z3 = torch.rand_like(tensor)\n",
        "torch.mul(tensor,tensor.T,out=z3)\n",
        "print(z1)\n",
        "print(z2)\n",
        "print(z3)"
      ],
      "execution_count": 33,
      "outputs": [
        {
          "output_type": "stream",
          "text": [
            "tensor([[1., 0., 1., 1.],\n",
            "        [1., 0., 1., 1.],\n",
            "        [1., 0., 1., 1.],\n",
            "        [1., 0., 1., 1.]])\n",
            "tensor([[1., 0., 1., 1.],\n",
            "        [1., 0., 1., 1.],\n",
            "        [1., 0., 1., 1.],\n",
            "        [1., 0., 1., 1.]])\n",
            "tensor([[1., 0., 1., 1.],\n",
            "        [0., 0., 0., 0.],\n",
            "        [1., 0., 1., 1.],\n",
            "        [1., 0., 1., 1.]])\n"
          ],
          "name": "stdout"
        }
      ]
    },
    {
      "cell_type": "markdown",
      "metadata": {
        "id": "A9UrJ1qBAZRa"
      },
      "source": [
        "#1要素のテンソル\n",
        "テンソルの全要素の足し算などすると生まれる\n",
        "扱う場合には.item()を使用する"
      ]
    },
    {
      "cell_type": "code",
      "metadata": {
        "colab": {
          "base_uri": "https://localhost:8080/"
        },
        "id": "tSx3VJOVAPfR",
        "outputId": "a30767d6-f38e-4e90-831a-9a8adb0083ba"
      },
      "source": [
        "agg = tensor.sum()\n",
        "print(agg)\n",
        "agg_item = agg.item()\n",
        "print(agg_item,type(agg_item))"
      ],
      "execution_count": 35,
      "outputs": [
        {
          "output_type": "stream",
          "text": [
            "tensor(12.)\n",
            "12.0 <class 'float'>\n"
          ],
          "name": "stdout"
        }
      ]
    },
    {
      "cell_type": "markdown",
      "metadata": {
        "id": "Ji45Xw7UFpoP"
      },
      "source": [
        "#インプレース操作\n",
        "演算結果をオペランドに格納する演算をインプレースという\n",
        "メソッドの最後、接尾辞として操作名に_がつく\n",
        "x.copy_(x),x.t_()などであり、xの内容そのものを変更する\n",
        "\n",
        "インプレース操作はメモリを節約できるが、演算履歴が失われてしまうため、微分では問題となる"
      ]
    },
    {
      "cell_type": "code",
      "metadata": {
        "colab": {
          "base_uri": "https://localhost:8080/"
        },
        "id": "eKp23lK2A1YN",
        "outputId": "fce2ee7f-0f41-45a8-ef41-16d05725d4b1"
      },
      "source": [
        "print(tensor,'\\n')\n",
        "tensor.add_(5)\n",
        "print(tensor)"
      ],
      "execution_count": 36,
      "outputs": [
        {
          "output_type": "stream",
          "text": [
            "tensor([[1., 0., 1., 1.],\n",
            "        [1., 0., 1., 1.],\n",
            "        [1., 0., 1., 1.],\n",
            "        [1., 0., 1., 1.]]) \n",
            "\n",
            "tensor([[6., 5., 6., 6.],\n",
            "        [6., 5., 6., 6.],\n",
            "        [6., 5., 6., 6.],\n",
            "        [6., 5., 6., 6.]])\n"
          ],
          "name": "stdout"
        }
      ]
    },
    {
      "cell_type": "markdown",
      "metadata": {
        "id": "8dRGqrbsGTz8"
      },
      "source": [
        "#Numpyとの変換"
      ]
    },
    {
      "cell_type": "code",
      "metadata": {
        "colab": {
          "base_uri": "https://localhost:8080/"
        },
        "id": "uxUtXxMmGH_A",
        "outputId": "0a8dcca4-ca15-4541-b414-bf88867a2b71"
      },
      "source": [
        "#TensorTO Numpy Array\n",
        "t = torch.zeros(5)\n",
        "print(t)\n",
        "n = t.numpy()\n",
        "print(n)"
      ],
      "execution_count": 37,
      "outputs": [
        {
          "output_type": "stream",
          "text": [
            "tensor([0., 0., 0., 0., 0.])\n",
            "[0. 0. 0. 0. 0.]\n"
          ],
          "name": "stdout"
        }
      ]
    },
    {
      "cell_type": "code",
      "metadata": {
        "colab": {
          "base_uri": "https://localhost:8080/"
        },
        "id": "DAvtNfGxGhbf",
        "outputId": "4dd29f29-00ac-4f87-9787-4b55e05eb8f8"
      },
      "source": [
        "#この際Tensor側が変化するとnumpyも変化する\n",
        "#これはCPU上ではtensorとnumpyのメモリが共有されているからである\n",
        "t.add_(1)\n",
        "print(t)\n",
        "print(n)"
      ],
      "execution_count": 38,
      "outputs": [
        {
          "output_type": "stream",
          "text": [
            "tensor([1., 1., 1., 1., 1.])\n",
            "[1. 1. 1. 1. 1.]\n"
          ],
          "name": "stdout"
        }
      ]
    },
    {
      "cell_type": "code",
      "metadata": {
        "colab": {
          "base_uri": "https://localhost:8080/"
        },
        "id": "MO9HNyHcGrxE",
        "outputId": "47588dad-c28d-4a4a-b711-3739bfd4497d"
      },
      "source": [
        "#numpy側の変化もtensorに反映される\n",
        "n = np.ones(5)\n",
        "t = torch.from_numpy(n)\n",
        "print(n)\n",
        "print(t)"
      ],
      "execution_count": 39,
      "outputs": [
        {
          "output_type": "stream",
          "text": [
            "[1. 1. 1. 1. 1.]\n",
            "tensor([1., 1., 1., 1., 1.], dtype=torch.float64)\n"
          ],
          "name": "stdout"
        }
      ]
    },
    {
      "cell_type": "code",
      "metadata": {
        "id": "pDVk_icdHDEW"
      },
      "source": [
        ""
      ],
      "execution_count": null,
      "outputs": []
    }
  ]
}