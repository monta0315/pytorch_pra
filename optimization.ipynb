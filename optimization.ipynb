{
  "nbformat": 4,
  "nbformat_minor": 0,
  "metadata": {
    "colab": {
      "name": "optimization.ipynb",
      "provenance": [],
      "authorship_tag": "ABX9TyMnFBNX7FwX0DS9tPairhpB",
      "include_colab_link": true
    },
    "kernelspec": {
      "name": "python3",
      "display_name": "Python 3"
    },
    "language_info": {
      "name": "python"
    },
    "accelerator": "GPU"
  },
  "cells": [
    {
      "cell_type": "markdown",
      "metadata": {
        "id": "view-in-github",
        "colab_type": "text"
      },
      "source": [
        "<a href=\"https://colab.research.google.com/github/monta0315/pytorch_pra/blob/main/optimization.ipynb\" target=\"_parent\"><img src=\"https://colab.research.google.com/assets/colab-badge.svg\" alt=\"Open In Colab\"/></a>"
      ]
    },
    {
      "cell_type": "markdown",
      "metadata": {
        "id": "ScEfUBIJjGhI"
      },
      "source": [
        "#パラメータの最適化\n",
        "\n",
        "モデルを訓練、検証することでデータに対してのモデルのパラメータを最適化し、テストを行う\n",
        "\n",
        "モデルの訓練は反復的なプロセスになる\n",
        "\n",
        "各イテレーション（エポック）でモデルは出力を計算し、損失を求める。そして各パラメータについて損失に対する偏微分の値を求める\n",
        "\n",
        "その後、勾配降下法に基づいてパラメータを最適化する"
      ]
    },
    {
      "cell_type": "code",
      "metadata": {
        "id": "_8ooyUI3jEmh"
      },
      "source": [
        "%matplotlib inline\n",
        "import torch\n",
        "from torch import nn\n",
        "from torch.utils.data import DataLoader\n",
        "from torchvision import datasets\n",
        "from torchvision.transforms import ToTensor,Lambda"
      ],
      "execution_count": 1,
      "outputs": []
    },
    {
      "cell_type": "code",
      "metadata": {
        "id": "yxFCRjh-kd8a"
      },
      "source": [
        "training_data = datasets.FashionMNIST(\n",
        "    root=\"data\",\n",
        "    train=True,\n",
        "    download=True,\n",
        "    transform=ToTensor()\n",
        ")\n",
        "\n",
        "test_data = datasets.FashionMNIST(\n",
        "    root=\"data\",\n",
        "    train=False,\n",
        "    download=True,\n",
        "    transform=ToTensor()\n",
        ")\n",
        "\n",
        "train_dataloader = DataLoader(training_data, batch_size=64)\n",
        "test_dataloader = DataLoader(test_data, batch_size=64)\n",
        "\n",
        "class NeuralNetwork(nn.Module):\n",
        "    def __init__(self):\n",
        "        super(NeuralNetwork, self).__init__()\n",
        "        self.flatten = nn.Flatten()\n",
        "        self.linear_relu_stack = nn.Sequential(\n",
        "            nn.Linear(28*28, 512),\n",
        "            nn.ReLU(),\n",
        "            nn.Linear(512, 512),\n",
        "            nn.ReLU(),\n",
        "            nn.Linear(512, 10),\n",
        "            nn.ReLU()\n",
        "        )\n",
        "\n",
        "    def forward(self, x):\n",
        "        x = self.flatten(x)\n",
        "        logits = self.linear_relu_stack(x)\n",
        "        return logits\n",
        "\n",
        "model = NeuralNetwork()"
      ],
      "execution_count": 8,
      "outputs": []
    },
    {
      "cell_type": "markdown",
      "metadata": {
        "id": "2a9-inJ0mO9Y"
      },
      "source": [
        "#ハイパーパラメータ\n",
        "\n",
        "ハイパーパラメータはモデルの最適化プロセスを制御するためのパラメータ\n",
        "\n",
        "ハイパーパラメータの値が異なると、モデルの学習や収束率に影響する\n",
        "\n",
        "今回は訓練用のハイパーパラメータとして以下の値を使用する\n",
        "- Number of Epochs：イテレーション回数\n",
        "- Batch Size：ミニバッチサイズを構成するデータ数\n",
        "- Learning Rate：パラメータの更新係数、値が小さいと変化が少なく、大きすぎると訓練に失敗する可能性が生まれる"
      ]
    },
    {
      "cell_type": "code",
      "metadata": {
        "id": "WeICzJ4amETC"
      },
      "source": [
        "learning_rate = 1e-3\n",
        "batch_size = 64\n",
        "epochs = 5"
      ],
      "execution_count": 3,
      "outputs": []
    },
    {
      "cell_type": "markdown",
      "metadata": {
        "id": "XAmBXDMynE6W"
      },
      "source": [
        "#最適化ループ\n",
        "\n",
        "ハイパーパラメータを設定後、訓練での最適化のループを回すことでモデルを最適化する。\n",
        "\n",
        "最適化のループの一回のイテレーションはエポックと呼ばれる\n",
        "\n",
        "各エポックは２種類のループから構成される\n",
        "- 訓練ループ：データセットに対して訓練を実行し、パラメータを収束させる\n",
        "- 検証/テストループ：テストデータセットでモデルを評価し、性能が向上しているか確認する\n",
        "\n",
        "損失関数：Loss Function\n",
        "\n",
        "データが与えられていても訓練されていないネットワークは正しい答えを出力しない可能性がある\n",
        "\n",
        "損失関数はモデルが推論した結果と実際の正解との誤差の大きさを測定する関数。訓練ではこの損失関数の値を小さくしている\n",
        "\n",
        "損失を計算するためには入力データに対するモデルの推論結果を求めその値と正解ラベルの違いを比較する\n",
        "\n",
        "一般的な損失関数としては、回帰タスクではnn.MSELoss、分類タスクではnn.NLLLossが使用される\n",
        "\n",
        "nn.CrossEntorpyLossはnn.LogSoftmaxとnn.NLLLossを結合した損失関数となる\n",
        "\n",
        "モデルが出力するlogitsの値をnn.CrossEntropyLossに与えて正則化し、予測誤差を求める"
      ]
    },
    {
      "cell_type": "code",
      "metadata": {
        "id": "yocA9M9qnDGJ"
      },
      "source": [
        "loss_fn = nn.CrossEntropyLoss()"
      ],
      "execution_count": 4,
      "outputs": []
    },
    {
      "cell_type": "markdown",
      "metadata": {
        "id": "ri577kg1oozU"
      },
      "source": [
        "#最適化器\n",
        "\n",
        "最適化は各訓練ステップにおいてモデルのごさが小さくなるようにモデルパラメータを調整するプロセス\n",
        "\n",
        "#最適化アルゴリズム\n",
        "\n",
        "最適化アルゴリズムは最適化プロセスの具体的な手続き。今回は確率的勾配降下法を使用する\n",
        "\n",
        "最適化のロジックは全てoptimizerオブジェクトにある\n",
        "\n",
        "今回はSGDoptimizerを使用する。他にもAdamなど色々ある\n",
        "\n",
        "訓練したいモデルパラメータをoptimizerに登録し合わせて学習率をハイパーパラメータとして渡すことで初期化している"
      ]
    },
    {
      "cell_type": "code",
      "metadata": {
        "id": "vxrYLMtZol12"
      },
      "source": [
        "optimizer = torch.optim.SGD(model.parameters(),lr=learning_rate)"
      ],
      "execution_count": 5,
      "outputs": []
    },
    {
      "cell_type": "markdown",
      "metadata": {
        "id": "INKsUJrHpuOF"
      },
      "source": [
        "訓練ループ内で最適化は3つのプロセスから構成される\n",
        "\n",
        "[1]optimizer.zero_grad()を実行し、モデルパラメータの勾配をリセットする\n",
        "\n",
        "勾配の計算は蓄積されていくので、毎イテレーション、明示的にリセットする\n",
        "\n",
        "[2]続いて、loss_backwards()を実行しバックプロパゲーションを実行する\n",
        "\n",
        "PyTorchは損失に対する各パラメータの偏微分の値（勾配）を求めます\n",
        "\n",
        "[3]最後にoptimizer.step()を実行し、各パラメータの勾配を使用してパラメータの値を調整する\n"
      ]
    },
    {
      "cell_type": "code",
      "metadata": {
        "id": "MrhWbRhFpiZH"
      },
      "source": [
        "#最適化を実行するコードをループするtrain_loopとテストデータに対してモデルの性能を評価するtest_loopを定義する\n",
        "def train_loop(dataloader, model, loss_fn, optimizer):\n",
        "    size = len(dataloader.dataset)\n",
        "    for batch, (X, y) in enumerate(dataloader):        \n",
        "        # 予測と損失の計算\n",
        "        pred = model(X)\n",
        "        loss = loss_fn(pred, y)\n",
        "        \n",
        "        # バックプロパゲーション\n",
        "        optimizer.zero_grad()\n",
        "        loss.backward()\n",
        "        optimizer.step()\n",
        "\n",
        "        if batch % 100 == 0:\n",
        "            loss, current = loss.item(), batch * len(X)\n",
        "            print(f\"loss: {loss:>7f}  [{current:>5d}/{size:>5d}]\")\n",
        "\n",
        "\n",
        "def test_loop(dataloader, model, loss_fn):\n",
        "    size = len(dataloader.dataset)\n",
        "    test_loss, correct = 0, 0\n",
        "\n",
        "    with torch.no_grad():\n",
        "        for X, y in dataloader:\n",
        "            pred = model(X)\n",
        "            test_loss += loss_fn(pred, y).item()\n",
        "            correct += (pred.argmax(1) == y).type(torch.float).sum().item()\n",
        "            \n",
        "    test_loss /= size\n",
        "    correct /= size\n",
        "    print(f\"Test Error: \\n Accuracy: {(100*correct):>0.1f}%, Avg loss: {test_loss:>8f} \\n\")"
      ],
      "execution_count": 6,
      "outputs": []
    },
    {
      "cell_type": "markdown",
      "metadata": {
        "id": "fKTQQCZnsHK_"
      },
      "source": [
        "損失関数とoptimizerを初期化し、それをtrain_loopとtest_loopに渡す\n"
      ]
    },
    {
      "cell_type": "code",
      "metadata": {
        "colab": {
          "base_uri": "https://localhost:8080/"
        },
        "id": "FvR6kv_BsGLf",
        "outputId": "1714e572-cf79-4676-d3b3-f0c03bc73a8a"
      },
      "source": [
        "loss_fn = nn.CrossEntropyLoss()\n",
        "optimizer = torch.optim.SGD(model.parameters(),lr=learning_rate)\n",
        "\n",
        "epochs = 10\n",
        "for t in range(epochs):\n",
        "    print(f\"Epoch {t+1}\\n-------------------------------\")\n",
        "    train_loop(train_dataloader, model, loss_fn, optimizer)\n",
        "    test_loop(test_dataloader, model, loss_fn)\n",
        "print(\"Done!\")"
      ],
      "execution_count": 9,
      "outputs": [
        {
          "output_type": "stream",
          "name": "stdout",
          "text": [
            "Epoch 1\n",
            "-------------------------------\n",
            "loss: 2.305897  [    0/60000]\n",
            "loss: 2.296755  [ 6400/60000]\n",
            "loss: 2.285121  [12800/60000]\n",
            "loss: 2.274584  [19200/60000]\n",
            "loss: 2.267561  [25600/60000]\n",
            "loss: 2.247670  [32000/60000]\n",
            "loss: 2.251319  [38400/60000]\n",
            "loss: 2.235155  [44800/60000]\n",
            "loss: 2.227404  [51200/60000]\n",
            "loss: 2.199702  [57600/60000]\n",
            "Test Error: \n",
            " Accuracy: 53.2%, Avg loss: 0.034580 \n",
            "\n",
            "Epoch 2\n",
            "-------------------------------\n",
            "loss: 2.211729  [    0/60000]\n",
            "loss: 2.207579  [ 6400/60000]\n",
            "loss: 2.158000  [12800/60000]\n",
            "loss: 2.159208  [19200/60000]\n",
            "loss: 2.151253  [25600/60000]\n",
            "loss: 2.110323  [32000/60000]\n",
            "loss: 2.126626  [38400/60000]\n",
            "loss: 2.088149  [44800/60000]\n",
            "loss: 2.092673  [51200/60000]\n",
            "loss: 2.018685  [57600/60000]\n",
            "Test Error: \n",
            " Accuracy: 54.4%, Avg loss: 0.031933 \n",
            "\n",
            "Epoch 3\n",
            "-------------------------------\n",
            "loss: 2.064917  [    0/60000]\n",
            "loss: 2.055066  [ 6400/60000]\n",
            "loss: 1.937732  [12800/60000]\n",
            "loss: 1.947724  [19200/60000]\n",
            "loss: 1.942412  [25600/60000]\n",
            "loss: 1.867532  [32000/60000]\n",
            "loss: 1.899337  [38400/60000]\n",
            "loss: 1.832393  [44800/60000]\n",
            "loss: 1.866343  [51200/60000]\n",
            "loss: 1.716250  [57600/60000]\n",
            "Test Error: \n",
            " Accuracy: 55.0%, Avg loss: 0.027686 \n",
            "\n",
            "Epoch 4\n",
            "-------------------------------\n",
            "loss: 1.836685  [    0/60000]\n",
            "loss: 1.822307  [ 6400/60000]\n",
            "loss: 1.623742  [12800/60000]\n",
            "loss: 1.642233  [19200/60000]\n",
            "loss: 1.684985  [25600/60000]\n",
            "loss: 1.587615  [32000/60000]\n",
            "loss: 1.627595  [38400/60000]\n",
            "loss: 1.568954  [44800/60000]\n",
            "loss: 1.629059  [51200/60000]\n",
            "loss: 1.423967  [57600/60000]\n",
            "Test Error: \n",
            " Accuracy: 56.4%, Avg loss: 0.023740 \n",
            "\n",
            "Epoch 5\n",
            "-------------------------------\n",
            "loss: 1.620835  [    0/60000]\n",
            "loss: 1.621967  [ 6400/60000]\n",
            "loss: 1.369166  [12800/60000]\n",
            "loss: 1.395291  [19200/60000]\n",
            "loss: 1.491228  [25600/60000]\n",
            "loss: 1.395438  [32000/60000]\n",
            "loss: 1.433136  [38400/60000]\n",
            "loss: 1.400491  [44800/60000]\n",
            "loss: 1.466941  [51200/60000]\n",
            "loss: 1.249300  [57600/60000]\n",
            "Test Error: \n",
            " Accuracy: 58.4%, Avg loss: 0.021210 \n",
            "\n",
            "Epoch 6\n",
            "-------------------------------\n",
            "loss: 1.466813  [    0/60000]\n",
            "loss: 1.490037  [ 6400/60000]\n",
            "loss: 1.205638  [12800/60000]\n",
            "loss: 1.247615  [19200/60000]\n",
            "loss: 1.357154  [25600/60000]\n",
            "loss: 1.271676  [32000/60000]\n",
            "loss: 1.309085  [38400/60000]\n",
            "loss: 1.291921  [44800/60000]\n",
            "loss: 1.357335  [51200/60000]\n",
            "loss: 1.147361  [57600/60000]\n",
            "Test Error: \n",
            " Accuracy: 59.6%, Avg loss: 0.019569 \n",
            "\n",
            "Epoch 7\n",
            "-------------------------------\n",
            "loss: 1.356221  [    0/60000]\n",
            "loss: 1.403138  [ 6400/60000]\n",
            "loss: 1.096102  [12800/60000]\n",
            "loss: 1.155964  [19200/60000]\n",
            "loss: 1.262535  [25600/60000]\n",
            "loss: 1.183934  [32000/60000]\n",
            "loss: 1.224170  [38400/60000]\n",
            "loss: 1.214423  [44800/60000]\n",
            "loss: 1.276141  [51200/60000]\n",
            "loss: 1.078619  [57600/60000]\n",
            "Test Error: \n",
            " Accuracy: 60.9%, Avg loss: 0.018405 \n",
            "\n",
            "Epoch 8\n",
            "-------------------------------\n",
            "loss: 1.271339  [    0/60000]\n",
            "loss: 1.340611  [ 6400/60000]\n",
            "loss: 1.015454  [12800/60000]\n",
            "loss: 1.092974  [19200/60000]\n",
            "loss: 1.193456  [25600/60000]\n",
            "loss: 1.115855  [32000/60000]\n",
            "loss: 1.160999  [38400/60000]\n",
            "loss: 1.155611  [44800/60000]\n",
            "loss: 1.212237  [51200/60000]\n",
            "loss: 1.026875  [57600/60000]\n",
            "Test Error: \n",
            " Accuracy: 62.2%, Avg loss: 0.017512 \n",
            "\n",
            "Epoch 9\n",
            "-------------------------------\n",
            "loss: 1.201125  [    0/60000]\n",
            "loss: 1.290317  [ 6400/60000]\n",
            "loss: 0.951076  [12800/60000]\n",
            "loss: 1.045337  [19200/60000]\n",
            "loss: 1.140362  [25600/60000]\n",
            "loss: 1.059346  [32000/60000]\n",
            "loss: 1.111138  [38400/60000]\n",
            "loss: 1.108907  [44800/60000]\n",
            "loss: 1.159508  [51200/60000]\n",
            "loss: 0.986151  [57600/60000]\n",
            "Test Error: \n",
            " Accuracy: 63.4%, Avg loss: 0.016788 \n",
            "\n",
            "Epoch 10\n",
            "-------------------------------\n",
            "loss: 1.141082  [    0/60000]\n",
            "loss: 1.246570  [ 6400/60000]\n",
            "loss: 0.896648  [12800/60000]\n",
            "loss: 1.003746  [19200/60000]\n",
            "loss: 1.098478  [25600/60000]\n",
            "loss: 1.012083  [32000/60000]\n",
            "loss: 1.071024  [38400/60000]\n",
            "loss: 1.070789  [44800/60000]\n",
            "loss: 1.115722  [51200/60000]\n",
            "loss: 0.951338  [57600/60000]\n",
            "Test Error: \n",
            " Accuracy: 64.7%, Avg loss: 0.016191 \n",
            "\n",
            "Done!\n"
          ]
        }
      ]
    },
    {
      "cell_type": "code",
      "metadata": {
        "id": "fnqbvsHDsiTo"
      },
      "source": [
        ""
      ],
      "execution_count": null,
      "outputs": []
    }
  ]
}