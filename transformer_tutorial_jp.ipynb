{
 "cells": [
  {
   "cell_type": "markdown",
   "metadata": {},
   "source": [
    "`nn.Transformer`モジュールは、Attensionメカニズム（最近、\n",
    "[nn.MultiheadAttention](https://pytorch.org/docs/master/nn.html?highlight=multiheadattention#torch.nn.MultiheadAttention)として実装された別のモジュール）に完全に依存しています。このAttensionメカニズムにより、入力と出力の間の大域的な依存関係を捉えることができます。\n",
    "\n",
    "`nn.Transformer`モジュールは、単一でも使用しやすいように、高度にモジュール化されており、簡単に、`nn.Transformer`モジュールをコンポーネント（本チュートリアルの[nn.TransformerEncoder](https://pytorch.org/docs/master/nn.html?highlight=nn%20transformerencoder#torch.nn.TransformerEncoder)など）に適用したり、あるいは`nn.Transformer`モジュールを使って、コンポーネントを作成したりすることができます。\n"
   ]
  },
  {
   "cell_type": "code",
   "execution_count": 2,
   "metadata": {},
   "outputs": [
    {
     "name": "stdout",
     "output_type": "stream",
     "text": [
      "Collecting torchtext==0.4.0\n",
      "  Using cached torchtext-0.4.0-py3-none-any.whl (53 kB)\n",
      "Requirement already satisfied: tqdm in /home/kawai/anaconda3/envs/pppm/lib/python3.7/site-packages (from torchtext==0.4.0) (4.64.0)\n",
      "Requirement already satisfied: six in /home/kawai/anaconda3/envs/pppm/lib/python3.7/site-packages (from torchtext==0.4.0) (1.16.0)\n",
      "Requirement already satisfied: requests in /home/kawai/anaconda3/envs/pppm/lib/python3.7/site-packages (from torchtext==0.4.0) (2.27.1)\n",
      "Requirement already satisfied: numpy in /home/kawai/anaconda3/envs/pppm/lib/python3.7/site-packages (from torchtext==0.4.0) (1.21.5)\n",
      "Requirement already satisfied: torch in /home/kawai/anaconda3/envs/pppm/lib/python3.7/site-packages (from torchtext==0.4.0) (1.11.0)\n",
      "Requirement already satisfied: charset-normalizer~=2.0.0 in /home/kawai/anaconda3/envs/pppm/lib/python3.7/site-packages (from requests->torchtext==0.4.0) (2.0.4)\n",
      "Requirement already satisfied: certifi>=2017.4.17 in /home/kawai/anaconda3/envs/pppm/lib/python3.7/site-packages (from requests->torchtext==0.4.0) (2021.10.8)\n",
      "Requirement already satisfied: idna<4,>=2.5 in /home/kawai/anaconda3/envs/pppm/lib/python3.7/site-packages (from requests->torchtext==0.4.0) (3.3)\n",
      "Requirement already satisfied: urllib3<1.27,>=1.21.1 in /home/kawai/anaconda3/envs/pppm/lib/python3.7/site-packages (from requests->torchtext==0.4.0) (1.26.9)\n",
      "Requirement already satisfied: typing_extensions in /home/kawai/anaconda3/envs/pppm/lib/python3.7/site-packages (from torch->torchtext==0.4.0) (4.1.1)\n",
      "Installing collected packages: torchtext\n",
      "Successfully installed torchtext-0.4.0\n"
     ]
    }
   ],
   "source": [
    "import matplotlib.pyplot as plt\n",
    "%matplotlib inline\n",
    "!pip3 install torchtext==0.4.0"
   ]
  },
  {
   "cell_type": "code",
   "execution_count": 3,
   "metadata": {},
   "outputs": [
    {
     "name": "stderr",
     "output_type": "stream",
     "text": [
      "/home/kawai/anaconda3/envs/pppm/lib/python3.7/site-packages/tqdm/auto.py:22: TqdmWarning: IProgress not found. Please update jupyter and ipywidgets. See https://ipywidgets.readthedocs.io/en/stable/user_install.html\n",
      "  from .autonotebook import tqdm as notebook_tqdm\n"
     ]
    }
   ],
   "source": [
    "import math\n",
    "import torch\n",
    "import torch.nn as nn\n",
    "import torch.nn.functional as F"
   ]
  },
  {
   "cell_type": "code",
   "execution_count": 5,
   "metadata": {},
   "outputs": [],
   "source": [
    "class PositionalEncoding(nn.Module):\n",
    "\n",
    "    def __init__(self, d_model, dropout=0.1, max_len=5000):\n",
    "        super(PositionalEncoding, self).__init__()\n",
    "        self.dropout = nn.Dropout(p=dropout)\n",
    "\n",
    "        pe = torch.zeros(max_len, d_model)\n",
    "        position = torch.arange(0, max_len, dtype=torch.float).unsqueeze(1)\n",
    "        div_term = torch.exp(torch.arange(0, d_model, 2).float() * (-math.log(10000.0) / d_model))\n",
    "        pe[:, 0::2] = torch.sin(position * div_term)\n",
    "        pe[:, 1::2] = torch.cos(position * div_term)\n",
    "        pe = pe.unsqueeze(0).transpose(0, 1)\n",
    "        self.register_buffer('pe', pe)\n",
    "\n",
    "    def forward(self, x):\n",
    "        x = x + self.pe[:x.size(0), :]\n",
    "        return self.dropout(x)"
   ]
  },
  {
   "cell_type": "code",
   "execution_count": 7,
   "metadata": {},
   "outputs": [],
   "source": [
    "class TransformerModel(nn.Module):\n",
    "    def __init__(self,ntoken,ninp,nhead,nhid,nlayers,dropout=0.5):\n",
    "        super(TransformerModel,self).__init__()\n",
    "        from torch.nn import TransformerEncoder,TransformerEncoderLayer\n",
    "        self.model_type = \"transformer\"\n",
    "        self.src_mask = None\n",
    "        self.pos_encoder = PositionalEncoding(ninp,dropout)\n",
    "        encoder_layers = TransformerEncoderLayer(ninp,nhead,nhid,dropout)\n",
    "        self.transformer_encoder = TransformerEncoder(encoder_layers,nlayers)\n",
    "        self.encoder = nn.Embedding(ntoken,ninp)\n",
    "        self.ninp = ninp\n",
    "        self.decoder = nn.Linear(ninp,ntoken)\n",
    "\n",
    "        self.init_weigths()\n",
    "\n",
    "    def _generate_square_subsequent_mask(self,sz):\n",
    "        mask = (torch.triu(torch.ones(sz,sz)) == 1).transpose(0,1)\n",
    "        mask = mask.float().masked_fill(mask == 0,float('-inf')).masked_fill(mask == 1, float(0,0))\n",
    "        return mask\n",
    "    \n",
    "    def init_weight(self):\n",
    "        initrange = 0.1\n",
    "        self.encoder.weight.data.uniform_(-initrange,initrange)\n",
    "        self.decoder.bias.data.zero_()\n",
    "        self.decoder.weight.data.uniform_(-initrange,initrange)\n",
    "    \n",
    "    def forword(self,src):\n",
    "        if self.src_mask is None or self.src_mask.size(0) != src.size(0):\n",
    "            device = src.device\n",
    "            mask = self._generate_square_subsequent_mask(src.size(0)).to(device)\n",
    "            self.src_mask = mask\n",
    "        \n",
    "        src = self.encoder(src)*math.sqrt(self.ninp)\n",
    "        src = self.pos_encoder(src)\n",
    "        output = self.transformer_encoder(src,self.src_mask)\n",
    "        output = self.decoder(output)\n",
    "        return output\n"
   ]
  },
  {
   "cell_type": "code",
   "execution_count": null,
   "metadata": {},
   "outputs": [],
   "source": []
  }
 ],
 "metadata": {
  "interpreter": {
   "hash": "92ae18cf42f0dbe80cd8f67e8291499741f93001e5fdd91fa8bc773a455c3e43"
  },
  "kernelspec": {
   "display_name": "Python 3.7.10 ('pppm')",
   "language": "python",
   "name": "python3"
  },
  "language_info": {
   "codemirror_mode": {
    "name": "ipython",
    "version": 3
   },
   "file_extension": ".py",
   "mimetype": "text/x-python",
   "name": "python",
   "nbconvert_exporter": "python",
   "pygments_lexer": "ipython3",
   "version": "3.7.10"
  },
  "orig_nbformat": 4
 },
 "nbformat": 4,
 "nbformat_minor": 2
}
