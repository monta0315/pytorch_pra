{
  "nbformat": 4,
  "nbformat_minor": 0,
  "metadata": {
    "colab": {
      "name": "saveloadrun.ipynb",
      "provenance": [],
      "collapsed_sections": [],
      "authorship_tag": "ABX9TyNLdCLZn3ZmoJWTN/BR//pG",
      "include_colab_link": true
    },
    "kernelspec": {
      "name": "python3",
      "display_name": "Python 3"
    },
    "language_info": {
      "name": "python"
    },
    "accelerator": "GPU"
  },
  "cells": [
    {
      "cell_type": "markdown",
      "metadata": {
        "id": "view-in-github",
        "colab_type": "text"
      },
      "source": [
        "<a href=\"https://colab.research.google.com/github/monta0315/pytorch_pra/blob/main/saveloadrun.ipynb\" target=\"_parent\"><img src=\"https://colab.research.google.com/assets/colab-badge.svg\" alt=\"Open In Colab\"/></a>"
      ]
    },
    {
      "cell_type": "markdown",
      "metadata": {
        "id": "tmAUAah92VIz"
      },
      "source": [
        "#モデルの保存と読み込み\n",
        "モデルの状態を継続させるために、モデルを保存する方法とモデルを読み込む推論を実行する方法について解説する"
      ]
    },
    {
      "cell_type": "code",
      "metadata": {
        "id": "xE2qdLa52PF7"
      },
      "source": [
        "%matplotlib inline"
      ],
      "execution_count": 1,
      "outputs": []
    },
    {
      "cell_type": "code",
      "metadata": {
        "id": "GJ2NKs2r2kNg"
      },
      "source": [
        "import torch\n",
        "import torch.onnx as onnx\n",
        "import torchvision.models as models"
      ],
      "execution_count": 3,
      "outputs": []
    },
    {
      "cell_type": "markdown",
      "metadata": {
        "id": "cudzZ4wS2-A4"
      },
      "source": [
        "#モデルの重みの保存と読み込み\n",
        "Pytorchのモデルは学習したパラメータを内部に辞書型で保持している\n",
        "\n",
        "これらのパラメータの値はtorch.saveを使用することで、永続化させることができる\n",
        "\n"
      ]
    },
    {
      "cell_type": "code",
      "metadata": {
        "id": "8IYZ7NaR2zwr"
      },
      "source": [
        "model = models.vgg16(pretrained=True)\n",
        "torch.save(model.state_dict(),'models_weights.pth')"
      ],
      "execution_count": 8,
      "outputs": []
    },
    {
      "cell_type": "markdown",
      "metadata": {
        "id": "tcVcrpGX37Gp"
      },
      "source": [
        "モデルの重みを読み込むためには、予め、同じモデルの形をしたインスタンスを用意する\n",
        "\n",
        "そしてそのインスタンスに対してload_state_dict()メソッドを使用しパラメータの値を読み込む"
      ]
    },
    {
      "cell_type": "code",
      "metadata": {
        "colab": {
          "base_uri": "https://localhost:8080/"
        },
        "id": "trPrmRxU3sl-",
        "outputId": "978a1d6c-ed39-4b18-cd55-6924299dfbdf"
      },
      "source": [
        "model = models.vgg16()\n",
        "model.load_state_dict(torch.load('models_weights.pth'))\n",
        "model.eval()"
      ],
      "execution_count": 10,
      "outputs": [
        {
          "output_type": "execute_result",
          "data": {
            "text/plain": [
              "VGG(\n",
              "  (features): Sequential(\n",
              "    (0): Conv2d(3, 64, kernel_size=(3, 3), stride=(1, 1), padding=(1, 1))\n",
              "    (1): ReLU(inplace=True)\n",
              "    (2): Conv2d(64, 64, kernel_size=(3, 3), stride=(1, 1), padding=(1, 1))\n",
              "    (3): ReLU(inplace=True)\n",
              "    (4): MaxPool2d(kernel_size=2, stride=2, padding=0, dilation=1, ceil_mode=False)\n",
              "    (5): Conv2d(64, 128, kernel_size=(3, 3), stride=(1, 1), padding=(1, 1))\n",
              "    (6): ReLU(inplace=True)\n",
              "    (7): Conv2d(128, 128, kernel_size=(3, 3), stride=(1, 1), padding=(1, 1))\n",
              "    (8): ReLU(inplace=True)\n",
              "    (9): MaxPool2d(kernel_size=2, stride=2, padding=0, dilation=1, ceil_mode=False)\n",
              "    (10): Conv2d(128, 256, kernel_size=(3, 3), stride=(1, 1), padding=(1, 1))\n",
              "    (11): ReLU(inplace=True)\n",
              "    (12): Conv2d(256, 256, kernel_size=(3, 3), stride=(1, 1), padding=(1, 1))\n",
              "    (13): ReLU(inplace=True)\n",
              "    (14): Conv2d(256, 256, kernel_size=(3, 3), stride=(1, 1), padding=(1, 1))\n",
              "    (15): ReLU(inplace=True)\n",
              "    (16): MaxPool2d(kernel_size=2, stride=2, padding=0, dilation=1, ceil_mode=False)\n",
              "    (17): Conv2d(256, 512, kernel_size=(3, 3), stride=(1, 1), padding=(1, 1))\n",
              "    (18): ReLU(inplace=True)\n",
              "    (19): Conv2d(512, 512, kernel_size=(3, 3), stride=(1, 1), padding=(1, 1))\n",
              "    (20): ReLU(inplace=True)\n",
              "    (21): Conv2d(512, 512, kernel_size=(3, 3), stride=(1, 1), padding=(1, 1))\n",
              "    (22): ReLU(inplace=True)\n",
              "    (23): MaxPool2d(kernel_size=2, stride=2, padding=0, dilation=1, ceil_mode=False)\n",
              "    (24): Conv2d(512, 512, kernel_size=(3, 3), stride=(1, 1), padding=(1, 1))\n",
              "    (25): ReLU(inplace=True)\n",
              "    (26): Conv2d(512, 512, kernel_size=(3, 3), stride=(1, 1), padding=(1, 1))\n",
              "    (27): ReLU(inplace=True)\n",
              "    (28): Conv2d(512, 512, kernel_size=(3, 3), stride=(1, 1), padding=(1, 1))\n",
              "    (29): ReLU(inplace=True)\n",
              "    (30): MaxPool2d(kernel_size=2, stride=2, padding=0, dilation=1, ceil_mode=False)\n",
              "  )\n",
              "  (avgpool): AdaptiveAvgPool2d(output_size=(7, 7))\n",
              "  (classifier): Sequential(\n",
              "    (0): Linear(in_features=25088, out_features=4096, bias=True)\n",
              "    (1): ReLU(inplace=True)\n",
              "    (2): Dropout(p=0.5, inplace=False)\n",
              "    (3): Linear(in_features=4096, out_features=4096, bias=True)\n",
              "    (4): ReLU(inplace=True)\n",
              "    (5): Dropout(p=0.5, inplace=False)\n",
              "    (6): Linear(in_features=4096, out_features=1000, bias=True)\n",
              "  )\n",
              ")"
            ]
          },
          "metadata": {},
          "execution_count": 10
        }
      ]
    },
    {
      "cell_type": "markdown",
      "metadata": {
        "id": "vWjCVUw15RcI"
      },
      "source": [
        "ドロップアウトやバッチノーマライゼーションレイヤーをevaluationモードに切り替えるために、推論前にはmodel.eval()を実行する\n",
        "\n",
        "これを忘れると推論結果が正しくなくなる"
      ]
    },
    {
      "cell_type": "markdown",
      "metadata": {
        "id": "He3PXDND5fl4"
      },
      "source": [
        "#モデルの形ごと保存、読み込む方法\n",
        "\n",
        "モデルの重みをロードする場合は、先のモデルのインスタンスを用意する必要がある\n",
        "\n",
        "モデルクラスの構造も一緒に保存したい場合は保存時にmodel.state_dict()ではなくmodelに渡す\n"
      ]
    },
    {
      "cell_type": "code",
      "metadata": {
        "id": "Tssw5RDJ5Id8"
      },
      "source": [
        "#torch.saveの第一引数がmodel.state_dictではなくmodelに変換されている\n",
        "torch.save(model,'model.pth')"
      ],
      "execution_count": 11,
      "outputs": []
    },
    {
      "cell_type": "code",
      "metadata": {
        "id": "0yMzvD1e9Qn-"
      },
      "source": [
        "#モデルのをロードする\n",
        "model = torch.load('model.pth')"
      ],
      "execution_count": 13,
      "outputs": []
    },
    {
      "cell_type": "markdown",
      "metadata": {
        "id": "FhPGcr5q9ljo"
      },
      "source": [
        "【注意】\n",
        "\n",
        "上記の方法はPythonの[`pickle`](https://docs.python.org/3/library/pickle.html)モジュールをモデルのシリアライズに使用します。\n",
        "\n",
        "そのため、モデルのロード時に実際のクラス定義が利用可能である必要があります。\n",
        "\n",
        "<br>\n",
        "\n",
        "【日本語訳注】\n",
        "\n",
        "上記の表現は理解が少し難しいのですが、言いたいことは、モデルのモジュールに独自クラスを定義して使用している場合、`torch.load`を実行する前に、その独自クラスをimportするか宣言するかして、使用可能な状態にしておく必要があります、という意味です。\n",
        "\n",
        "でないと、`load`時に不明なクラスを使用することになり読み込みエラーとなります。\n",
        "\n"
      ]
    },
    {
      "cell_type": "markdown",
      "metadata": {
        "id": "Hia4A3709m_0"
      },
      "source": [
        "#ONNX形式でもモデル出力\n",
        "\n",
        "PytorchはONNX形式でのモデル出力もサポートしている\n",
        "\n",
        "しかし、Pytorchの計算グラフは動的に生成されるため、出力処理では計算グラフを一度実行して作成してからONNXモデルを生成する必要がある\n",
        "\n",
        "すなわち実際に一度データを流してみる必要がある\n",
        "\n",
        "そのため、テスト用の適切なテンソルサイズの入力変数を用意し、モデル出力の処理に渡す必要がある\n",
        "\n",
        "以下ではダミーのゼロテンソルを適切なサイズで作成して使用している"
      ]
    },
    {
      "cell_type": "code",
      "metadata": {
        "colab": {
          "base_uri": "https://localhost:8080/"
        },
        "id": "VatlLvuS9YNy",
        "outputId": "2f5ac34c-bbf9-4a7d-c69b-d1c36f90e5db"
      },
      "source": [
        "input_image = torch.zeros(1,3,224,224)\n",
        "onnx.export(model,input_image,'model.onnx')"
      ],
      "execution_count": 14,
      "outputs": [
        {
          "output_type": "stream",
          "name": "stderr",
          "text": [
            "/usr/local/lib/python3.7/dist-packages/torch/nn/functional.py:718: UserWarning: Named tensors and all their associated APIs are an experimental feature and subject to change. Please do not use them for anything important until they are released as stable. (Triggered internally at  /pytorch/c10/core/TensorImpl.h:1156.)\n",
            "  return torch.max_pool2d(input, kernel_size, stride, padding, dilation, ceil_mode)\n"
          ]
        }
      ]
    },
    {
      "cell_type": "code",
      "metadata": {
        "id": "U6ddmfD_-4HN"
      },
      "source": [
        ""
      ],
      "execution_count": null,
      "outputs": []
    }
  ]
}